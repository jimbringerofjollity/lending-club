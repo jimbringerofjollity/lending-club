{
 "cells": [
  {
   "cell_type": "markdown",
   "id": "315924d0",
   "metadata": {},
   "source": [
    "# Capstone 3 Notebook 2 Data wrangling"
   ]
  },
  {
   "cell_type": "markdown",
   "id": "1d1d0214",
   "metadata": {},
   "source": [
    "## 2.1 Introduction"
   ]
  },
  {
   "cell_type": "markdown",
   "id": "97c5320c",
   "metadata": {},
   "source": [
    "This step focuses on collecting your data, organizing it, and making sure it's well defined. Paying attention to these tasks will pay off greatly later on. Some data cleaning can be done at this stage, but it's important not to be overzealous in your cleaning before you've explored the data to better understand it."
   ]
  },
  {
   "cell_type": "markdown",
   "id": "53bf9e1a",
   "metadata": {},
   "source": [
    "### 2.1.1 Recap Of Data Science Problem"
   ]
  },
  {
   "cell_type": "markdown",
   "id": "8b80449e",
   "metadata": {},
   "source": [
    "The purpose of this data science project is to come up with a classification model for loans that get approved on Lending Club. Lenders on Lending Club suspect they may not be maximizing their profits, relative to what's optimal. They also do not have a strong sense of what borrower features matter the most in determining credit-worthiness. This project aims to build a classification model for potential borrowers based on various numerical and categorical data. This model will be used to provide guidance for banks and other moneylenders."
   ]
  },
  {
   "cell_type": "code",
   "execution_count": null,
   "id": "2e63befb",
   "metadata": {},
   "outputs": [],
   "source": []
  }
 ],
 "metadata": {
  "kernelspec": {
   "display_name": "Python 3",
   "language": "python",
   "name": "python3"
  },
  "language_info": {
   "codemirror_mode": {
    "name": "ipython",
    "version": 3
   },
   "file_extension": ".py",
   "mimetype": "text/x-python",
   "name": "python",
   "nbconvert_exporter": "python",
   "pygments_lexer": "ipython3",
   "version": "3.6.9"
  }
 },
 "nbformat": 4,
 "nbformat_minor": 5
}
